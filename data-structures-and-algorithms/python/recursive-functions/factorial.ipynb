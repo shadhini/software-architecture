{
 "cells": [
  {
   "cell_type": "markdown",
   "source": [
    "# Factorial\n",
    "- Factorial of 1 = 1\n",
    "- Factorial of 2 = 2 + 1 = 3\n",
    "- Factorial of 3 = 3 + 2 + 1 = 6\n",
    "- Factorial of 4 = 4 + 3 + 2 + 1 = 10\n",
    "\n",
    "Sequence: `1, 3, 6, 10, 15, 21, 28, 36, 45, 55, ...`"
   ],
   "metadata": {
    "collapsed": false
   }
  },
  {
   "cell_type": "code",
   "source": [
    "def factorial(n): # self-explanatory version\n",
    "  print(\"Factorial called with \" + str(n))\n",
    "  if n < 2:\n",
    "    print(\"Returning 1\")\n",
    "    return 1\n",
    "  result = n * factorial(n-1)\n",
    "  print(\"Returning \" + str(result) + \" for factorial of \" + str(n))\n",
    "  return result"
   ],
   "metadata": {
    "collapsed": false,
    "ExecuteTime": {
     "end_time": "2025-08-08T10:28:31.015806Z",
     "start_time": "2025-08-08T10:28:31.012033Z"
    }
   },
   "outputs": [],
   "execution_count": 7
  },
  {
   "cell_type": "code",
   "source": [
    "factorial(10)"
   ],
   "metadata": {
    "collapsed": false,
    "ExecuteTime": {
     "end_time": "2025-08-08T10:28:24.866953Z",
     "start_time": "2025-08-08T10:28:24.861258Z"
    }
   },
   "outputs": [
    {
     "name": "stdout",
     "output_type": "stream",
     "text": [
      "Factorial called with 10\n",
      "Factorial called with 9\n",
      "Factorial called with 8\n",
      "Factorial called with 7\n",
      "Factorial called with 6\n",
      "Factorial called with 5\n",
      "Factorial called with 4\n",
      "Factorial called with 3\n",
      "Factorial called with 2\n",
      "Factorial called with 1\n",
      "Returning 1\n",
      "Returning 2 for factorial of 2\n",
      "Returning 6 for factorial of 3\n",
      "Returning 24 for factorial of 4\n",
      "Returning 120 for factorial of 5\n",
      "Returning 720 for factorial of 6\n",
      "Returning 5040 for factorial of 7\n",
      "Returning 40320 for factorial of 8\n",
      "Returning 362880 for factorial of 9\n",
      "Returning 3628800 for factorial of 10\n"
     ]
    },
    {
     "data": {
      "text/plain": [
       "3628800"
      ]
     },
     "execution_count": 5,
     "metadata": {},
     "output_type": "execute_result"
    }
   ],
   "execution_count": 5
  },
  {
   "cell_type": "code",
   "source": [
    "def factorial(n):\n",
    "  if n < 2:\n",
    "    return 1\n",
    "  return n * factorial(n-1)"
   ],
   "metadata": {
    "collapsed": false,
    "ExecuteTime": {
     "end_time": "2025-08-08T10:26:49.876572Z",
     "start_time": "2025-08-08T10:26:49.874083Z"
    }
   },
   "outputs": [],
   "execution_count": 3
  },
  {
   "metadata": {},
   "cell_type": "code",
   "outputs": [],
   "execution_count": null,
   "source": ""
  }
 ],
 "metadata": {
  "kernelspec": {
   "display_name": "Python 3",
   "language": "python",
   "name": "python3"
  },
  "language_info": {
   "codemirror_mode": {
    "name": "ipython",
    "version": 2
   },
   "file_extension": ".py",
   "mimetype": "text/x-python",
   "name": "python",
   "nbconvert_exporter": "python",
   "pygments_lexer": "ipython2",
   "version": "2.7.6"
  }
 },
 "nbformat": 4,
 "nbformat_minor": 0
}
